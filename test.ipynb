{
 "cells": [
  {
   "cell_type": "code",
   "execution_count": null,
   "metadata": {},
   "outputs": [
    {
     "name": "stdout",
     "output_type": "stream",
     "text": [
      "This is Burn the Witch by Radiohead\n"
     ]
    }
   ],
   "source": [
    "#Music Recognition\n",
    "from pathlib import Path\n",
    "import os\n",
    "from pydub import AudioSegment #Might require ffmpeg for some audio files\n",
    "import requests\n",
    "import json\n",
    "\n",
    "song = AudioSegment.from_file(Path(input(\"Path to your music: \")))\n",
    "song = song[:20*1000]\n",
    "p = os.getcwd()+\"temp.mp3\"\n",
    "f = open(p, \"wb\")\n",
    "song.export(f, format=\"mp3\")\n",
    "\n",
    "data = {\n",
    "    'api_token': 'fd60ab9964ca6a5bacf7938118c746ce',\n",
    "    'return': 'spotify',\n",
    "}\n",
    "files = {\n",
    "    'file': open(p, 'rb'),\n",
    "}\n",
    "result = requests.post('https://api.audd.io/', data=data, files=files)\n",
    "result = result.json()\n",
    "if (result[\"status\"] == \"success\"):\n",
    "  result = result[\"result\"]\n",
    "  print(f\"This is {result['title']} by {result['artist']}\")\n",
    "else:\n",
    "  print(\"Failed to recognize. Try music analysis.\")"
   ]
  },
  {
   "cell_type": "code",
   "execution_count": null,
   "metadata": {},
   "outputs": [
    {
     "name": "stdout",
     "output_type": "stream",
     "text": [
      "[t-SNE] Computing 91 nearest neighbors...\n",
      "[t-SNE] Indexed 10000 samples in 0.015s...\n",
      "[t-SNE] Computed neighbors for 10000 samples in 2.358s...\n",
      "[t-SNE] Computed conditional probabilities for sample 1000 / 10000\n",
      "[t-SNE] Computed conditional probabilities for sample 2000 / 10000\n",
      "[t-SNE] Computed conditional probabilities for sample 3000 / 10000\n",
      "[t-SNE] Computed conditional probabilities for sample 4000 / 10000\n",
      "[t-SNE] Computed conditional probabilities for sample 5000 / 10000\n",
      "[t-SNE] Computed conditional probabilities for sample 6000 / 10000\n",
      "[t-SNE] Computed conditional probabilities for sample 7000 / 10000\n",
      "[t-SNE] Computed conditional probabilities for sample 8000 / 10000\n",
      "[t-SNE] Computed conditional probabilities for sample 9000 / 10000\n",
      "[t-SNE] Computed conditional probabilities for sample 10000 / 10000\n",
      "[t-SNE] Mean sigma: 0.997027\n",
      "[t-SNE] KL divergence after 250 iterations with early exaggeration: 89.183357\n"
     ]
    }
   ],
   "source": [
    "#Prepare the model\n",
    "import numpy as np\n",
    "import pandas as pd\n",
    "\n",
    "import seaborn as sns\n",
    "import plotly.express as px \n",
    "import matplotlib.pyplot as plt\n",
    "%matplotlib inline\n",
    "\n",
    "from sklearn.cluster import KMeans\n",
    "from sklearn.preprocessing import StandardScaler\n",
    "from sklearn.pipeline import Pipeline\n",
    "from sklearn.manifold import TSNE\n",
    "from sklearn.decomposition import PCA\n",
    "from sklearn.metrics import euclidean_distances\n",
    "from scipy.spatial.distance import cdist\n",
    "\n",
    "datafile = pd.read_csv('dataset.csv')\n",
    "datafile = datafile.sort_values(by=['popularity'], ascending=False).head(10000)\n",
    "\n",
    "cluster_pipeline = Pipeline([('scaler', StandardScaler()), ('kmeans', KMeans(n_clusters=10))])\n",
    "X = datafile.select_dtypes(np.number)\n",
    "cluster_pipeline.fit(X)\n",
    "datafile['cluster'] = cluster_pipeline.predict(X)\n",
    "\n",
    "tsne_pipeline = Pipeline([('scaler', StandardScaler()), ('tsne', TSNE(n_components=2, verbose=1))])\n",
    "genre_embedding = tsne_pipeline.fit_transform(X)\n",
    "projection = pd.DataFrame(columns=['x', 'y'], data=genre_embedding)\n",
    "projection['track_genre'] = datafile['track_genre']\n",
    "projection['cluster'] = datafile['cluster']\n",
    "\n",
    "fig = px.scatter(\n",
    "    projection, x='x', y='y', color='cluster', hover_data=['x', 'y', 'genres'])\n",
    "fig.show()\n",
    "\n",
    "song_cluster_pipeline = Pipeline([('scaler', StandardScaler()), \n",
    "                                  ('kmeans', KMeans(n_clusters=20, \n",
    "                                   verbose=False, n_jobs=4))\n",
    "                                 ], verbose=False)\n",
    "\n",
    "X = data.select_dtypes(np.number)\n",
    "number_cols = list(X.columns)\n",
    "song_cluster_pipeline.fit(X)\n",
    "song_cluster_labels = song_cluster_pipeline.predict(X)\n",
    "data['cluster_label'] = song_cluster_labels"
   ]
  },
  {
   "cell_type": "code",
   "execution_count": null,
   "metadata": {},
   "outputs": [],
   "source": [
    "#Music Recommendation\n",
    "import spotipy\n",
    "from spotipy.oauth2 import SpotifyClientCredentials\n",
    "from collections import defaultdict\n",
    "\n",
    "if (result[\"status\"] != \"success\"):\n",
    "  print(\"Failed to recognize. Try music analysis.\")\n",
    "else:\n",
    "  song_data = defaultdict()\n",
    "  sp = spotipy.Spotify(auth_manager=SpotifyClientCredentials(client_id=os.environ[\"SPOTIFY_CLIENT_ID\"], client_secret=os.environ[\"SPOTIFY_CLIENT_SECRET\"]))\n",
    "  \n",
    "  "
   ]
  },
  {
   "cell_type": "code",
   "execution_count": null,
   "metadata": {},
   "outputs": [],
   "source": [
    "#Music Anlysis"
   ]
  }
 ],
 "metadata": {
  "kernelspec": {
   "display_name": "Python 3",
   "language": "python",
   "name": "python3"
  },
  "language_info": {
   "codemirror_mode": {
    "name": "ipython",
    "version": 3
   },
   "file_extension": ".py",
   "mimetype": "text/x-python",
   "name": "python",
   "nbconvert_exporter": "python",
   "pygments_lexer": "ipython3",
   "version": "3.10.9"
  }
 },
 "nbformat": 4,
 "nbformat_minor": 2
}
